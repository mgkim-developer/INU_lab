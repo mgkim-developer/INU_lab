{
  "nbformat": 4,
  "nbformat_minor": 0,
  "metadata": {
    "colab": {
      "name": "ECG_analysis_CNN_AI.ipynb",
      "provenance": [],
      "authorship_tag": "ABX9TyPj161MELw6iprBTqPhIktU",
      "include_colab_link": true
    },
    "kernelspec": {
      "name": "python3",
      "display_name": "Python 3"
    }
  },
  "cells": [
    {
      "cell_type": "markdown",
      "metadata": {
        "id": "view-in-github",
        "colab_type": "text"
      },
      "source": [
        "<a href=\"https://colab.research.google.com/github/mgkim-developer/INU-Lab/blob/master/ECG_analysis_CNN_AI.ipynb\" target=\"_parent\"><img src=\"https://colab.research.google.com/assets/colab-badge.svg\" alt=\"Open In Colab\"/></a>"
      ]
    },
    {
      "cell_type": "code",
      "metadata": {
        "id": "CdLtcpOwg2uL",
        "colab_type": "code",
        "colab": {}
      },
      "source": [
        "#Using CNN, LSTM_To analysis ECG"
      ],
      "execution_count": null,
      "outputs": []
    }
  ]
}