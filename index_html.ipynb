{
  "nbformat": 4,
  "nbformat_minor": 0,
  "metadata": {
    "colab": {
      "name": "index.html.ipynb",
      "provenance": [],
      "authorship_tag": "ABX9TyMyH9QhaTgFlESmlKXR93K0",
      "include_colab_link": true
    },
    "kernelspec": {
      "name": "python3",
      "display_name": "Python 3"
    }
  },
  "cells": [
    {
      "cell_type": "markdown",
      "metadata": {
        "id": "view-in-github",
        "colab_type": "text"
      },
      "source": [
        "<a href=\"https://colab.research.google.com/github/mgkim-developer/INU_lab/blob/master/index_html.ipynb\" target=\"_parent\"><img src=\"https://colab.research.google.com/assets/colab-badge.svg\" alt=\"Open In Colab\"/></a>"
      ]
    },
    {
      "cell_type": "markdown",
      "metadata": {
        "id": "WPnYmvIyETCJ"
      },
      "source": [
        "#index.html"
      ]
    },
    {
      "cell_type": "code",
      "metadata": {
        "id": "2Zz2T4NaEPSJ"
      },
      "source": [
        "<html lang=\"ko\">\n",
        "<head>\n",
        "    <meta charset=\"UTF-8\">\n",
        "\n",
        "    <!-- Boot strap -->\n",
        "   \n",
        "    <link rel=\"stylesheet\" href=\"https://maxcdn.bootstrapcdn.com/bootstrap/3.3.2/css/bootstrap.min.css\">\n",
        "   \n",
        "    <link rel=\"stylesheet\" href=\"https://maxcdn.bootstrapcdn.com/bootstrap/3.3.2/css/bootstrap-theme.min.css\">\n",
        "    \n",
        "    <script src=\"https://maxcdn.bootstrapcdn.com/bootstrap/3.3.2/js/bootstrap.min.js\"></script>\n",
        "\n",
        "    <style>\n",
        "        .header{\n",
        "            margin-top:20px;\n",
        "        }\n",
        "        .content{\n",
        "            height: 42%;\n",
        "            float:center;\n",
        "        }\n",
        "        .messageDiv{\n",
        "            margin-top: 20px;\n",
        "            margin-bottom: 20px;\n",
        "            float:center;\n",
        "        }\n",
        "        .toDoDiv{\n",
        "\n",
        "        }\n",
        "        .custom-btn{\n",
        "            font-size: 10px;\n",
        "        }\n",
        "        .panel-footer{\n",
        "            height:10%;\n",
        "            color:#e2e2e2;\n",
        "        }\n",
        "        .container{\n",
        "            margin-top: 150px;\n",
        "            float:center;\n",
        "        }\n",
        "\n",
        "\n",
        "\n",
        "    </style>\n",
        "\n",
        "    <title>인천대학교 특허정보검색서비스</title>\n",
        "</head>\n",
        "    {% load static %}\n",
        "    <script src=\"{% static 'js/test.js' %}\" > </script>\n",
        "<body>\n",
        "    <div class=\"container\">\n",
        "        <div class=\"header\">\n",
        "            <div class=\"page-header\">\n",
        "                <p>&nbsp;&nbsp;&nbsp;&nbsp;<img style=\"margin-bottom:20;\"  src=\"/static/images/inu_word.png\", width=\"200\", height=\"120\"><b style=\"padding-top:50;\"><font size=\"20\" > <br>&nbsp;특허정보검색서비스 </b></font><font> <small> &nbsp; by JYM. KMG (Dept. of Industrial & Management Eng.)</small> </font>\n",
        "                    <a class=\"img\" style=\" padding-bottom:100px;\" href=\"https://sites.google.com/site/imlabinu/members/kkim\"><img src=\"/static/images/IILAB-removebg-preview.png\" align=\"right\" ></a></p>\n",
        "\n",
        "\n",
        "            </div>\n",
        "        </div>\n",
        "        <div class=\"content\">\n",
        "            <div class=\"messageDiv\">\n",
        "                    <form action=\"./search_result/\" method=\"GET\">{% csrf_token %}\n",
        "                    <div class=\"input-group\">\n",
        "                        <input id=\"search_input1\" name=\"search_input\" type=\"text\" class=\"form-control\" placeholder=\"검색할 내용을 적어주세요\">\n",
        "                        <span class=\"input-group-btn\">\n",
        "                            <button class=\"btn btn-default\" type=\"submit\">검색</button>\n",
        "                        </span>\n",
        "                    </div>\n",
        "                   </form>\n",
        "\n",
        "            </div>\n",
        "            <div>\n",
        "\n",
        "                {% block content %}\n",
        "                {% endblock %}\n",
        "\n",
        "            </div>\n",
        "\n",
        "\n",
        "        </div>\n",
        "<!--        <div >-->\n",
        "<!--            <a href=\"https://sites.google.com/site/imlabinu/members/kkim\"><img src=\"/static/images/IILAB-removebg-preview.png\" align=\"right\" height=\"60\"></a>-->\n",
        "<!--        </div>-->\n",
        "    </div>\n",
        "</body>\n",
        "\n",
        "</html>"
      ],
      "execution_count": null,
      "outputs": []
    }
  ]
}