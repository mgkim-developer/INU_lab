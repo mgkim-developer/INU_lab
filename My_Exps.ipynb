{
  "nbformat": 4,
  "nbformat_minor": 0,
  "metadata": {
    "colab": {
      "name": "My_Exps.ipynb",
      "provenance": [],
      "collapsed_sections": [],
      "toc_visible": true,
      "mount_file_id": "1wAhJwFhS6F-7eFEXY_Ci_30BU1O8x6uU",
      "authorship_tag": "ABX9TyPj5iIpgGWbHFQloLshuPB7",
      "include_colab_link": true
    },
    "kernelspec": {
      "name": "python3",
      "display_name": "Python 3"
    }
  },
  "cells": [
    {
      "cell_type": "markdown",
      "metadata": {
        "id": "view-in-github",
        "colab_type": "text"
      },
      "source": [
        "<a href=\"https://colab.research.google.com/github/mgkim-developer/INU-Lab/blob/master/My_Exps.ipynb\" target=\"_parent\"><img src=\"https://colab.research.google.com/assets/colab-badge.svg\" alt=\"Open In Colab\"/></a>"
      ]
    },
    {
      "cell_type": "code",
      "metadata": {
        "id": "rCjPRBL21JMG",
        "colab_type": "code",
        "outputId": "eaec6a1f-fa8d-4eda-9f03-00dc30a60b23",
        "colab": {
          "base_uri": "https://localhost:8080/",
          "height": 54
        }
      },
      "source": [
        "print (\"hello world\")\n",
        "\n",
        "\n",
        "print(\"bye\")"
      ],
      "execution_count": 0,
      "outputs": [
        {
          "output_type": "stream",
          "text": [
            "hello world\n",
            "bye\n"
          ],
          "name": "stdout"
        }
      ]
    },
    {
      "cell_type": "markdown",
      "metadata": {
        "id": "opDFyVSI7uAy",
        "colab_type": "text"
      },
      "source": [
        "#단순한 프린트를 하는 프로그램\n",
        "\n",
        "아주쉬운 프로그램을 테스트 중입니다. 안녕하세요."
      ]
    },
    {
      "cell_type": "code",
      "metadata": {
        "id": "1aphAAcg7I-r",
        "colab_type": "code",
        "outputId": "0084cbc2-90dd-4588-9d9d-a13d46507165",
        "colab": {
          "base_uri": "https://localhost:8080/",
          "height": 54
        }
      },
      "source": [
        "print('인천대학교')\n",
        "\n",
        "print('안녕하세요')"
      ],
      "execution_count": 0,
      "outputs": [
        {
          "output_type": "stream",
          "text": [
            "인천대학교\n",
            "안녕하세요\n"
          ],
          "name": "stdout"
        }
      ]
    },
    {
      "cell_type": "code",
      "metadata": {
        "id": "gEnjjQ2l7Rqn",
        "colab_type": "code",
        "colab": {}
      },
      "source": [
        "x = 10"
      ],
      "execution_count": 0,
      "outputs": []
    },
    {
      "cell_type": "code",
      "metadata": {
        "id": "XTl2x8oS7i8g",
        "colab_type": "code",
        "outputId": "491c7043-1b0e-4772-bc64-e9d72d36c922",
        "colab": {
          "base_uri": "https://localhost:8080/",
          "height": 1000
        }
      },
      "source": [
        "\n",
        "for x in range(2, 10):\n",
        "  for y in range(1, 10):\n",
        "    print('%d * %d = %d' % (x, y, (x*y)))"
      ],
      "execution_count": 0,
      "outputs": [
        {
          "output_type": "stream",
          "text": [
            "2 * 1 = 2\n",
            "2 * 2 = 4\n",
            "2 * 3 = 6\n",
            "2 * 4 = 8\n",
            "2 * 5 = 10\n",
            "2 * 6 = 12\n",
            "2 * 7 = 14\n",
            "2 * 8 = 16\n",
            "2 * 9 = 18\n",
            "3 * 1 = 3\n",
            "3 * 2 = 6\n",
            "3 * 3 = 9\n",
            "3 * 4 = 12\n",
            "3 * 5 = 15\n",
            "3 * 6 = 18\n",
            "3 * 7 = 21\n",
            "3 * 8 = 24\n",
            "3 * 9 = 27\n",
            "4 * 1 = 4\n",
            "4 * 2 = 8\n",
            "4 * 3 = 12\n",
            "4 * 4 = 16\n",
            "4 * 5 = 20\n",
            "4 * 6 = 24\n",
            "4 * 7 = 28\n",
            "4 * 8 = 32\n",
            "4 * 9 = 36\n",
            "5 * 1 = 5\n",
            "5 * 2 = 10\n",
            "5 * 3 = 15\n",
            "5 * 4 = 20\n",
            "5 * 5 = 25\n",
            "5 * 6 = 30\n",
            "5 * 7 = 35\n",
            "5 * 8 = 40\n",
            "5 * 9 = 45\n",
            "6 * 1 = 6\n",
            "6 * 2 = 12\n",
            "6 * 3 = 18\n",
            "6 * 4 = 24\n",
            "6 * 5 = 30\n",
            "6 * 6 = 36\n",
            "6 * 7 = 42\n",
            "6 * 8 = 48\n",
            "6 * 9 = 54\n",
            "7 * 1 = 7\n",
            "7 * 2 = 14\n",
            "7 * 3 = 21\n",
            "7 * 4 = 28\n",
            "7 * 5 = 35\n",
            "7 * 6 = 42\n",
            "7 * 7 = 49\n",
            "7 * 8 = 56\n",
            "7 * 9 = 63\n",
            "8 * 1 = 8\n",
            "8 * 2 = 16\n",
            "8 * 3 = 24\n",
            "8 * 4 = 32\n",
            "8 * 5 = 40\n",
            "8 * 6 = 48\n",
            "8 * 7 = 56\n",
            "8 * 8 = 64\n",
            "8 * 9 = 72\n",
            "9 * 1 = 9\n",
            "9 * 2 = 18\n",
            "9 * 3 = 27\n",
            "9 * 4 = 36\n",
            "9 * 5 = 45\n",
            "9 * 6 = 54\n",
            "9 * 7 = 63\n",
            "9 * 8 = 72\n",
            "9 * 9 = 81\n"
          ],
          "name": "stdout"
        }
      ]
    },
    {
      "cell_type": "code",
      "metadata": {
        "id": "aSTQlYjR8fW1",
        "colab_type": "code",
        "colab": {}
      },
      "source": [
        "\n",
        "# file writing\n",
        "f = open(\"/content/drive/My Drive/Colab_Data/my_test_out.txt\", 'w')\n",
        "\n",
        "for i in range(1, 11):\n",
        "  f.write(\"%d 번째 줄을 출력합니다. \\n\" % i)\n",
        "\n",
        "f.close()"
      ],
      "execution_count": 0,
      "outputs": []
    },
    {
      "cell_type": "code",
      "metadata": {
        "id": "F-hRLIZh9tgw",
        "colab_type": "code",
        "outputId": "a9112b2f-bef1-48fb-fc25-2b2b0b043cd9",
        "colab": {
          "base_uri": "https://localhost:8080/",
          "height": 381
        }
      },
      "source": [
        "\n",
        "#file reading\n",
        "f = open(\"/content/drive/My Drive/Colab_Data/my_test_out.txt\", 'r')\n",
        "lines = f.readlines()\n",
        "for l in lines:\n",
        "  print(l)\n",
        "f.close()"
      ],
      "execution_count": 0,
      "outputs": [
        {
          "output_type": "stream",
          "text": [
            "1 번째 줄을 출력합니다. \n",
            "\n",
            "2 번째 줄을 출력합니다. \n",
            "\n",
            "3 번째 줄을 출력합니다. \n",
            "\n",
            "4 번째 줄을 출력합니다. \n",
            "\n",
            "5 번째 줄을 출력합니다. \n",
            "\n",
            "6 번째 줄을 출력합니다. \n",
            "\n",
            "7 번째 줄을 출력합니다. \n",
            "\n",
            "8 번째 줄을 출력합니다. \n",
            "\n",
            "9 번째 줄을 출력합니다. \n",
            "\n",
            "10 번째 줄을 출력합니다. \n",
            "\n"
          ],
          "name": "stdout"
        }
      ]
    }
  ]
}