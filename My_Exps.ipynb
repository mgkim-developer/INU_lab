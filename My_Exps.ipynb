{
  "nbformat": 4,
  "nbformat_minor": 0,
  "metadata": {
    "colab": {
      "name": "My_Exps.ipynb",
      "provenance": [],
      "collapsed_sections": [],
      "authorship_tag": "ABX9TyNiAbon8xLI50bm0FiZt+DU",
      "include_colab_link": true
    },
    "kernelspec": {
      "name": "python3",
      "display_name": "Python 3"
    }
  },
  "cells": [
    {
      "cell_type": "markdown",
      "metadata": {
        "id": "view-in-github",
        "colab_type": "text"
      },
      "source": [
        "<a href=\"https://colab.research.google.com/github/mgkim-developer/INU-Lab/blob/master/My_Exps.ipynb\" target=\"_parent\"><img src=\"https://colab.research.google.com/assets/colab-badge.svg\" alt=\"Open In Colab\"/></a>"
      ]
    },
    {
      "cell_type": "code",
      "metadata": {
        "id": "rCjPRBL21JMG",
        "colab_type": "code",
        "outputId": "01864591-bcf4-4b8c-8ee1-b95f4e09533d",
        "colab": {
          "base_uri": "https://localhost:8080/",
          "height": 53
        }
      },
      "source": [
        "print (\"hello world\")\n",
        "\n",
        "\n",
        "print(\"bye\")"
      ],
      "execution_count": 0,
      "outputs": [
        {
          "output_type": "stream",
          "text": [
            "hello world\n",
            "bye\n"
          ],
          "name": "stdout"
        }
      ]
    },
    {
      "cell_type": "markdown",
      "metadata": {
        "id": "opDFyVSI7uAy",
        "colab_type": "text"
      },
      "source": [
        "#단순한 프린트를 하는 프로그램\n",
        "\n",
        "아주쉬운 프로그램을 테스트 중입니다. 안녕하세요."
      ]
    },
    {
      "cell_type": "code",
      "metadata": {
        "id": "1aphAAcg7I-r",
        "colab_type": "code",
        "outputId": "c250bda5-514b-4933-f37d-4f399e48f927",
        "colab": {
          "base_uri": "https://localhost:8080/",
          "height": 53
        }
      },
      "source": [
        "print('인천대학교')\n",
        "\n",
        "print('안녕하세요')"
      ],
      "execution_count": 0,
      "outputs": [
        {
          "output_type": "stream",
          "text": [
            "인천대학교\n",
            "안녕하세요\n"
          ],
          "name": "stdout"
        }
      ]
    },
    {
      "cell_type": "code",
      "metadata": {
        "id": "gEnjjQ2l7Rqn",
        "colab_type": "code",
        "colab": {}
      },
      "source": [
        "x = 10"
      ],
      "execution_count": 0,
      "outputs": []
    },
    {
      "cell_type": "code",
      "metadata": {
        "id": "XTl2x8oS7i8g",
        "colab_type": "code",
        "colab": {}
      },
      "source": [
        "\n",
        "for x in range(2, 10):\n",
        "  for y in range(1, 10):\n",
        "    print('%d * %d = %d' % (x, y, (x*y)))"
      ],
      "execution_count": 0,
      "outputs": []
    }
  ]
}